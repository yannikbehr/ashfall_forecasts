{
 "cells": [
  {
   "cell_type": "code",
   "execution_count": null,
   "id": "0414e33d-e56c-497a-ba82-db7dbd79f6c8",
   "metadata": {},
   "outputs": [],
   "source": [
    "import datetime\n",
    "import os\n",
    "import glob\n",
    "import numpy as np\n",
    "import pandas as pd \n",
    "import xarray as xr\n",
    "import matplotlib.pyplot as plt\n",
    "import cartopy.crs as ccrs\n",
    "import cartopy.feature as cfeature\n",
    "from matplotlib.colors import ListedColormap\n",
    "\n",
    "clon=180\n",
    "\n",
    "land_10m = cfeature.NaturalEarthFeature(\n",
    "    \"physical\", \"land\", \"10m\", facecolor=cfeature.COLORS[\"land\"]\n",
    ")\n",
    "    \n",
    "def plot_decor(ax):\n",
    "    ax.coastlines(\"10m\")\n",
    "    ax.set_extent([172,180,-42,-34])\n",
    "    ax.add_feature(land_10m, zorder=-1)\n",
    "    gl = ax.gridlines(draw_labels=True)\n",
    "    gl.top_labels = False\n",
    "    gl.right_labels = False\n",
    "    \n",
    "\n",
    "def plot_1x1(da, levels, cmap, cbar_label, fig_label):\n",
    "    fig, ax = plt.subplots(1,1, figsize=(8,6), subplot_kw={\"projection\": ccrs.PlateCarree(clon)})    \n",
    "    da.plot.contourf(ax=ax, levels=levels, cmap=cmap, cbar_kwargs={'label': cbar_label}, transform=ccrs.PlateCarree())                                            \n",
    "    plot_decor(ax)\n",
    "    fig.suptitle(fig_label)\n",
    "    return fig,ax\n",
    "\n"
   ]
  },
  {
   "cell_type": "markdown",
   "id": "d694e247-eed6-4988-9659-d036bb80efa9",
   "metadata": {},
   "source": [
    "# Set customizable global variables"
   ]
  },
  {
   "cell_type": "code",
   "execution_count": null,
   "id": "0bd37502-4384-4980-8768-a5352d6dd402",
   "metadata": {},
   "outputs": [],
   "source": [
    "density = 1300 # kg/m3 andesite for Tongariro\n",
    "it = -1  # plots for last time instant in files (same as it=23)\n",
    "\n",
    "savefigs = True\n",
    "fig_args = dict(bbox_inches='tight', dpi=300)\n",
    "\n",
    "# UNCOMMENT FOR OPERATIONAL CASE STUDY\n",
    "data_pattern = '202107150000/output/*Tongariro*nc'\n",
    "fileplot_prefix = 'plt_ens_202107150000_Tongariro'\n",
    "\n",
    "# UNCOMMENT FOR HISTORICAL CASE STUDY\n",
    "# data_pattern = '201208061200/output/*Tongariro*nc'\n",
    "# fileplot_prefix = 'plt_ens_201208061200_Tongariro'"
   ]
  },
  {
   "cell_type": "markdown",
   "id": "5d04cc2e-fdb9-4f82-a86d-918f0b2e3886",
   "metadata": {},
   "source": [
    "# Read files"
   ]
  },
  {
   "cell_type": "code",
   "execution_count": null,
   "id": "b548adad-6efc-4c0c-a14d-bf58acf4bf6d",
   "metadata": {},
   "outputs": [],
   "source": [
    "files = glob.glob(data_pattern)\n",
    "files.sort()\n",
    "print(len(files))\n",
    "\n",
    "for x in files[:3]:\n",
    "    print(x)"
   ]
  },
  {
   "cell_type": "code",
   "execution_count": null,
   "id": "66450da0-0ba5-468a-9ff6-5e65b57edef2",
   "metadata": {},
   "outputs": [],
   "source": [
    "ds = xr.open_mfdataset(files, combine='nested', concat_dim=['idx'])\n",
    "ds"
   ]
  },
  {
   "cell_type": "code",
   "execution_count": null,
   "id": "5e203502-e604-4169-98b6-a64af79f1599",
   "metadata": {},
   "outputs": [],
   "source": [
    "eruption_time = datetime.datetime.strptime(ds.attrs['eruption_time'], '%Y-%m-%dT%H:%M:%S')\n",
    "print(eruption_time)\n",
    "lag_hours = np.array([int(x.total_seconds()/3600.) for x in pd.to_datetime(ds.time.data) - eruption_time])\n",
    "print(lag_hours)"
   ]
  },
  {
   "cell_type": "markdown",
   "id": "07474bd5-de8d-4b9d-9de2-7348a7ce6dc5",
   "metadata": {},
   "source": [
    "# Compute exceedance probabilities"
   ]
  },
  {
   "cell_type": "code",
   "execution_count": null,
   "id": "dd66ad5c-5968-4e06-a2e9-d452dbf8efe3",
   "metadata": {},
   "outputs": [],
   "source": [
    "def compute_arrival_time(dain, vmin):\n",
    "    if dain.dims[0] != 'time':\n",
    "        print(dain.shape)\n",
    "        print('bad shape. Shoud be time, lat, lon')\n",
    "        raise\n",
    "    nt = dain.sizes['time']\n",
    "    daout = xr.where(dain > vmin, 1., 0)\n",
    "    daout = daout.cumsum(dim='time')\n",
    "    daout = daout.where(daout > 0)\n",
    "    # Assuming hourly data\n",
    "    for it in range(nt):\n",
    "         daout.data[it,...] = it+2 - daout.isel(time=it).data\n",
    "    return daout\n",
    "\n",
    "def compute_exc_prob_arrival_time(dain, threshold, arrival_min):\n",
    "    da = xr.where(dain > threshold, 1, 0)\n",
    "    da_prob = da.sum(dim='idx')/da.sizes['idx']\n",
    "    da_prob_arrival_time = compute_arrival_time(da_prob, vmin=arrival_min)\n",
    "    return(da_prob, da_prob_arrival_time)\n"
   ]
  },
  {
   "cell_type": "code",
   "execution_count": null,
   "id": "0e6404e2-2c56-41a3-b828-f4b3dcab25f9",
   "metadata": {},
   "outputs": [],
   "source": [
    "thresholds = [0.01, 0.1, 1, 3, 10]\n",
    "arrival_min = 0.5  # arrival of the 50% excedance prob\n",
    "\n",
    "da_probs = []\n",
    "da_prob_arrival_times = []\n",
    "for thres in thresholds:\n",
    "    da_prob, da_prob_arrival_time = compute_exc_prob_arrival_time(\n",
    "        dain=ds['total_deposition'],\n",
    "        threshold=thres,    \n",
    "        arrival_min=arrival_min)\n",
    "    da_probs += [da_prob]\n",
    "    da_prob_arrival_times += [da_prob_arrival_time]\n",
    "\n",
    "da_probs = xr.concat(da_probs, pd.Index(thresholds, name=\"threshold\"))\n",
    "da_prob_arrival_times = xr.concat(da_prob_arrival_times, pd.Index(thresholds, name=\"threshold\"))"
   ]
  },
  {
   "cell_type": "markdown",
   "id": "e408bae3-2f25-4638-9349-86a95c63e4b3",
   "metadata": {},
   "source": [
    "# Plot exceedance probability and arrival time"
   ]
  },
  {
   "cell_type": "code",
   "execution_count": null,
   "id": "b273e25d-77ab-4dd9-8e81-6bc3d30f0b38",
   "metadata": {},
   "outputs": [],
   "source": [
    "tic = datetime.datetime.now()\n",
    "\n",
    "prob_levs = [0.1, 0.2, 0.3, 0.4, 0.5, 0.6, 0.7, 0.8, 0.9, 1]\n",
    "# prob_levs = [0.1, 0.5, 0.9, 1.]\n",
    "\n",
    "for thres in thresholds[:1]:\n",
    "\n",
    "    da_prob = da_probs.sel(threshold=thres)\n",
    "    da_prob_arrival_time = da_prob_arrival_times.sel(threshold=thres)\n",
    "\n",
    "    # plot arrival time\n",
    "    fig, ax = plot_1x1(\n",
    "        da = da_prob_arrival_time.isel(time=it),\n",
    "        levels = lag_hours,\n",
    "        cmap = 'jet_r',\n",
    "        cbar_label = 'Arrival time of {}% probability of ash thickness > {} mm [h]'.format(int(arrival_min*100), thres),\n",
    "        fig_label = 'Arrival time ({} h after eruption)'.format(lag_hours[it]),\n",
    "    )\n",
    "    fileplot = fileplot_prefix + '_excprob{}_arrivaltime_lag{:02d}.png'.format(thres, lag_hours[it])\n",
    "    print(fileplot)\n",
    "    if savefigs: fig.savefig(fileplot, **fig_args)    \n",
    "    \n",
    "    \n",
    "    # plot excprob \n",
    "    da = da_prob.isel(time=it)\n",
    "    da = da.where(da > prob_levs[0])    \n",
    "    fig, ax = plot_1x1(\n",
    "        da = da,\n",
    "        levels = prob_levs,\n",
    "        cmap = 'viridis',\n",
    "        cbar_label = 'Probability of ash thickness > {} mm [-]'.format(thres),\n",
    "        fig_label = 'Excedance probability of {} mm ({} h after eruption)'.format(thres, lag_hours[it]),\n",
    "    )   \n",
    "    da.plot.contour(ax=ax, levels=[0.5], colors=['red'],  transform=ccrs.PlateCarree())\n",
    "    fileplot = fileplot_prefix + '_excprob{}_lag{:02d}.png'.format(thres, lag_hours[it])\n",
    "    print(fileplot)\n",
    "    if savefigs: fig.savefig(fileplot, **fig_args)    \n",
    "\n",
    "    toc = (datetime.datetime.now() - tic).total_seconds()\n",
    "    print('Elapsed time: {} s'.format(toc))\n",
    "    "
   ]
  },
  {
   "cell_type": "markdown",
   "id": "4a928f87-417a-468f-a1e7-a29e4da759a0",
   "metadata": {},
   "source": [
    "## Plot Hazard Matrix"
   ]
  },
  {
   "cell_type": "code",
   "execution_count": null,
   "id": "d9258871-6aa8-430e-89dc-ffbf811d4566",
   "metadata": {},
   "outputs": [],
   "source": [
    "ashbins = [0.01, 0.1, 1, 10]\n",
    "probbins = [0.1, 0.5, 0.9, 1.]\n",
    "\n",
    "# yellow, orange, red\n",
    "risk = [1,2,3]\n",
    "cmap_risk = ListedColormap([\"yellow\", \"orange\", \"red\"])\n",
    "\n",
    "it = -1\n",
    "da_probs_it = da_probs.isel(time=it)"
   ]
  },
  {
   "cell_type": "code",
   "execution_count": null,
   "id": "08cba31f-d06d-44f3-9b1a-238dffbb4c05",
   "metadata": {},
   "outputs": [],
   "source": [
    "# yellow: everything > probbins[0]\n",
    "da_risk_it = xr.where(da_probs_it.sel(threshold=ashbins[0]) > probbins[0], 1, 0)"
   ]
  },
  {
   "cell_type": "code",
   "execution_count": null,
   "id": "77c39790-dde6-4000-9249-e0964ea332d6",
   "metadata": {},
   "outputs": [],
   "source": [
    "# orange:\n",
    "tmp1 = xr.where(da_probs_it.sel(threshold=ashbins[1]) > probbins[1], 1, 0)\n",
    "tmp2 = xr.where(da_probs_it.sel(threshold=ashbins[2]) > probbins[0], 1, 0)\n",
    "tmp = tmp1 + tmp2\n",
    "tmp = xr.where(tmp > 0, 1, 0)\n",
    "da_risk_it = xr.where(tmp > 0, 2, da_risk_it)"
   ]
  },
  {
   "cell_type": "code",
   "execution_count": null,
   "id": "8b1b393f-e2b0-4cd7-bce6-8b8bff086057",
   "metadata": {},
   "outputs": [],
   "source": [
    "# red\n",
    "tmp3 = xr.where(da_probs_it.sel(threshold=ashbins[2]) > probbins[1], 1, 0)\n",
    "tmp4 = xr.where(da_probs_it.sel(threshold=ashbins[1]) > probbins[2], 1, 0)\n",
    "tmp = tmp3 + tmp4\n",
    "tmp = xr.where(tmp > 0, 1, 0)\n",
    "da_risk_it = xr.where(tmp > 0, 3, da_risk_it)"
   ]
  },
  {
   "cell_type": "code",
   "execution_count": null,
   "id": "c98066e7-23c5-43e6-9e06-eb505f0209e5",
   "metadata": {},
   "outputs": [],
   "source": [
    "da_risk_it = da_risk_it.drop('threshold')"
   ]
  },
  {
   "cell_type": "code",
   "execution_count": null,
   "id": "27c0b69b-8817-4156-8152-fd4991204a28",
   "metadata": {},
   "outputs": [],
   "source": [
    "def plot_inset_matrix(iax, ashbins, probbins, cmap):\n",
    "    Z = np.array([[1, 1, 2],\n",
    "                  [1, 2, 3],\n",
    "                  [1, 3, 3]])\n",
    "    x = np.arange(Z.shape[1] + 1)\n",
    "    y = np.arange(Z.shape[0] + 1)\n",
    "    iax.pcolormesh(x, y, Z, shading='flat', vmin=Z.min(), vmax=Z.max(), cmap=cmap,\n",
    "                  edgecolor='k')\n",
    "    iax.set_xticks([0, 1., 2., 3.])\n",
    "    iax.set_xticklabels(ashbins)\n",
    "    iax.set_xlabel('Ash deposition [mm]')\n",
    "    iax.set_yticks([0, 1., 2., 3.])\n",
    "    iax.set_yticklabels(np.array(probbins)*100.)\n",
    "    iax.set_ylabel('Likelihood [\\%]')\n",
    "    iax.set(title='Hazard matrix')"
   ]
  },
  {
   "cell_type": "code",
   "execution_count": null,
   "id": "0d91ca7c-b88d-4c92-8403-d2b38879e007",
   "metadata": {},
   "outputs": [],
   "source": [
    "fig, ax = plt.subplots(1,1, figsize=(8,6), subplot_kw={\"projection\": ccrs.PlateCarree(clon)})    \n",
    "da = da_risk_it.where(da_risk_it > 0) \n",
    "da.plot.contourf(ax=ax, \n",
    "                 levels=[0,1,2,3], cmap=cmap_risk,\n",
    "                 add_colorbar=False,\n",
    "                 transform=ccrs.PlateCarree())   \n",
    "\n",
    "ds['total_deposition'].isel(idx=0, time=-1).plot.contour(ax=ax, levels=[0.5], colors=['blue'],  transform=ccrs.PlateCarree())\n",
    "\n",
    "plot_decor(ax)\n",
    "ax.set_extent([170,180,-42,-34])\n",
    "fig.suptitle('Likelihood of accumulated ash thickness ({} h after eruption)'.format(lag_hours[it]))\n",
    "\n",
    "# this is an inset axes over the main axes\n",
    "ins_ax = fig.add_axes([.26, .5, .12, .15])\n",
    "plot_inset_matrix(ins_ax, ashbins, probbins, cmap_risk)\n",
    "\n",
    "fileplot = fileplot_prefix + '_hazard_matrix_lag{:02d}.png'.format(lag_hours[it])\n",
    "print(fileplot)\n",
    "if savefigs: fig.savefig(fileplot, **fig_args)  \n",
    "    "
   ]
  },
  {
   "cell_type": "code",
   "execution_count": null,
   "id": "1bfd767b-d462-4d7a-badb-4d3aa5517bd6",
   "metadata": {},
   "outputs": [],
   "source": []
  }
 ],
 "metadata": {
  "kernelspec": {
   "display_name": "lhs",
   "language": "python",
   "name": "lhs"
  },
  "language_info": {
   "codemirror_mode": {
    "name": "ipython",
    "version": 3
   },
   "file_extension": ".py",
   "mimetype": "text/x-python",
   "name": "python",
   "nbconvert_exporter": "python",
   "pygments_lexer": "ipython3",
   "version": "3.7.13"
  }
 },
 "nbformat": 4,
 "nbformat_minor": 5
}
