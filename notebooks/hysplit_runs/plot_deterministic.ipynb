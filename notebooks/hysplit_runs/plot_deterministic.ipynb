{
 "cells": [
  {
   "cell_type": "code",
   "execution_count": null,
   "id": "0414e33d-e56c-497a-ba82-db7dbd79f6c8",
   "metadata": {},
   "outputs": [],
   "source": [
    "import glob\n",
    "import numpy as np\n",
    "import pandas as pd \n",
    "import xarray as xr\n",
    "import matplotlib\n",
    "import matplotlib.pyplot as plt\n",
    "from matplotlib.colors import ListedColormap, LogNorm\n",
    "import cartopy.crs as ccrs\n",
    "import cartopy.feature as cfeature\n",
    "from matplotlib import rcParams\n",
    "\n",
    "print('xarray = ', xr.__version__)\n",
    "print('matplotlib = ', matplotlib.__version__)\n",
    "\n",
    "almost_zero=1.0e-6\n",
    "clon=180\n",
    "\n",
    "land_10m = cfeature.NaturalEarthFeature(\n",
    "    \"physical\", \"land\", \"10m\", facecolor=cfeature.COLORS[\"land\"]\n",
    ")\n",
    "\n",
    "def plot_decor(ax):\n",
    "    ax.coastlines(\"10m\")\n",
    "    ax.set_extent([172,180,-42,-34])\n",
    "    ax.add_feature(land_10m, zorder=-1)\n",
    "    gl = ax.gridlines(draw_labels=True)\n",
    "    gl.top_labels = False\n",
    "    gl.right_labels = False\n",
    "    gl.xlabel_style = {'size': 15}\n",
    "    gl.ylabel_style = {'size': 15}\n",
    "    \n",
    "def compute_arrival_time(dain, vmin=0.001):\n",
    "    if dain.dims[0] != 'time':\n",
    "        print(dain.shape)\n",
    "        print('bad shape. Shoud be time, lat, lon')\n",
    "        raise\n",
    "    nt = dain.sizes['time']\n",
    "    daout = xr.where(dain > vmin, 1., 0)\n",
    "    daout = daout.cumsum(dim='time')\n",
    "    daout = daout.where(daout > 0)\n",
    "    # Assuming hourly data\n",
    "    for it in range(nt):\n",
    "         daout.data[it,...] = it+2 - daout.isel(time=it).data\n",
    "    return daout\n"
   ]
  },
  {
   "cell_type": "markdown",
   "id": "d694e247-eed6-4988-9659-d036bb80efa9",
   "metadata": {},
   "source": [
    "# Set customizable global variables"
   ]
  },
  {
   "cell_type": "code",
   "execution_count": null,
   "id": "0bd37502-4384-4980-8768-a5352d6dd402",
   "metadata": {},
   "outputs": [],
   "source": [
    "density = 1300 # kg/m3 andesite for Tongariro\n",
    "it = -1  # plots for last time instant in files (same as it=23)\n",
    "\n",
    "savefigs = True\n",
    "fig_args = dict(bbox_inches='tight', dpi=300)\n",
    "\n",
    "# UNCOMMENT FOR OPERATIONAL CASE STUDY\n",
    "file_lhs = '202107150000/input/lh_sample_intermediate_n30_1.csv'\n",
    "data_pattern = '202107150000/output/*Tongariro*nc'\n",
    "fileplot_prefix = 'plt_det_202107150000_Tongariro'\n",
    "\n",
    "# UNCOMMENT FOR HISTORICAL CASE STUDY\n",
    "# file_lhs = '201208061200/input/lh_sample_intermediate_n20_1.csv'\n",
    "# data_pattern = '201208061200/output/*Tongariro*nc'\n",
    "# fileplot_prefix = 'plt_det_201208061200_Tongariro'"
   ]
  },
  {
   "cell_type": "markdown",
   "id": "5d04cc2e-fdb9-4f82-a86d-918f0b2e3886",
   "metadata": {},
   "source": [
    "# Read files"
   ]
  },
  {
   "cell_type": "code",
   "execution_count": null,
   "id": "b548adad-6efc-4c0c-a14d-bf58acf4bf6d",
   "metadata": {},
   "outputs": [],
   "source": [
    "files = glob.glob(data_pattern)\n",
    "files.sort()\n",
    "print(len(files))\n",
    "\n",
    "for x in files[:3]:\n",
    "    print(x)"
   ]
  },
  {
   "cell_type": "code",
   "execution_count": null,
   "id": "66450da0-0ba5-468a-9ff6-5e65b57edef2",
   "metadata": {},
   "outputs": [],
   "source": [
    "ds = xr.open_mfdataset(files, combine='nested', concat_dim=['idx'])\n",
    "ds"
   ]
  },
  {
   "cell_type": "code",
   "execution_count": null,
   "id": "fee8f803-75fe-43a6-9b30-900ebaedad35",
   "metadata": {},
   "outputs": [],
   "source": [
    "vlon, vlat = ds.attrs['src_lon'], ds.attrs['src_lat']\n",
    "vlon, vlat"
   ]
  },
  {
   "cell_type": "markdown",
   "id": "07b706f9-bbaf-4988-b548-e0957a5b3a4e",
   "metadata": {},
   "source": [
    "## Add arrival time"
   ]
  },
  {
   "cell_type": "code",
   "execution_count": null,
   "id": "ad4a4cb6-77d8-444e-91bf-ad73e9c1088d",
   "metadata": {},
   "outputs": [],
   "source": [
    "ds.chunks"
   ]
  },
  {
   "cell_type": "code",
   "execution_count": null,
   "id": "5d996068-8b2c-4d36-b0c8-1d2126512f96",
   "metadata": {},
   "outputs": [],
   "source": [
    "nidx = ds.sizes['idx']\n",
    "ds['arrival_time'] = ds['total_deposition'].copy(deep=True)\n",
    "ds['arrival_time'].attrs['long_name'] = 'arrival time'\n",
    "ds['arrival_time'].attrs['units'] = 'hours'\n",
    "for idx in range(nidx):\n",
    "    da = compute_arrival_time(ds['total_deposition'].isel(idx=idx))\n",
    "    ds['arrival_time'].data[idx,...] = da"
   ]
  },
  {
   "cell_type": "code",
   "execution_count": null,
   "id": "ef0e04fb-6b03-46b9-8692-ed024a34be1e",
   "metadata": {},
   "outputs": [],
   "source": [
    "ds.chunks"
   ]
  },
  {
   "cell_type": "markdown",
   "id": "e6d8c865-b6dd-4f16-9346-c28192a4df65",
   "metadata": {},
   "source": [
    "# Read scenarios"
   ]
  },
  {
   "cell_type": "code",
   "execution_count": null,
   "id": "8cd78101-1f57-4e6d-838c-d5ce80b8694f",
   "metadata": {},
   "outputs": [],
   "source": [
    "scenarios = pd.read_csv(file_lhs)\n",
    "scenarios = scenarios.rename({'MER [kg/s]': 'MER', 'Column height [km]': 'H', 'Duration [h]': 'D'}, axis=1)\n",
    "\n",
    "scenarios['MER'] = scenarios['MER']/1.e6 # MegaTons\n",
    "\n",
    "# total mass erupted\n",
    "scenarios['ME'] = scenarios['MER'] * scenarios['D']\n",
    "\n",
    "scenarios.head()"
   ]
  },
  {
   "cell_type": "code",
   "execution_count": null,
   "id": "a3dd0c24-37c3-4694-af6b-766a0fb2644e",
   "metadata": {},
   "outputs": [],
   "source": [
    "# Print max_ash_depth for each scenario just to have an idea of the range\n",
    "ds_slice = ds['total_deposition'].isel(time=-1)\n",
    "max_ash_depth = []\n",
    "for i in range(ds_slice.sizes['idx']):\n",
    "    da = ds_slice.isel(idx=i)    \n",
    "    #print(i, np.round(np.nanmin(da),0),np.nanmax(da))\n",
    "    max_ash_depth += [np.nanmax(da)]\n",
    "    \n",
    "\n",
    "# Adding max ash depth computed above\n",
    "scenarios['max_ash_depth'] = max_ash_depth\n",
    "scenarios"
   ]
  },
  {
   "cell_type": "code",
   "execution_count": null,
   "id": "b5a9d1ca-648a-455c-910b-562a94ceefbe",
   "metadata": {},
   "outputs": [],
   "source": [
    "axs = pd.plotting.scatter_matrix(scenarios, diagonal='kde',figsize=(12,10), marker='o')"
   ]
  },
  {
   "cell_type": "markdown",
   "id": "30671428-5890-4663-a129-926ec811b941",
   "metadata": {},
   "source": [
    "# Plots"
   ]
  },
  {
   "cell_type": "markdown",
   "id": "32e5248c-8d73-412f-b41f-401909a1f8f0",
   "metadata": {},
   "source": [
    "## Define levels and colormaps"
   ]
  },
  {
   "cell_type": "code",
   "execution_count": null,
   "id": "60cf5d8f-ef43-4ab2-b48b-af6fac6e6e0a",
   "metadata": {},
   "outputs": [],
   "source": [
    "lev_max = 1e3\n",
    "lev_min = 1e-3\n",
    "lev_exp = np.arange(np.log10( lev_min), np.log10(lev_max).max() + 1)\n",
    "print(lev_exp)\n",
    "levs = np.power(10, lev_exp)\n",
    "print(levs)\n",
    "\n",
    "\n",
    "def mycolormap(cmap_name, n):\n",
    "    cmap = plt.cm.get_cmap(cmap_name, len(levs)+1)\n",
    "    colors = list(cmap(np.arange(len(levs)+1)))\n",
    "    # replace first color with transparent\n",
    "    colors[0][-1] = 0\n",
    "    cmap2 = ListedColormap(colors)\n",
    "    # set over-color to last color of list \n",
    "#     cmap2.set_over(colors[-1])\n",
    "    return cmap2\n",
    "\n",
    "cmap = plt.cm.get_cmap('hot_r', len(levs)+1)\n",
    "cmap2 = mycolormap('hot_r', len(levs)+1)"
   ]
  },
  {
   "cell_type": "code",
   "execution_count": null,
   "id": "b8cc443c-9d13-4280-82f8-56346378bcc8",
   "metadata": {},
   "outputs": [],
   "source": [
    "cmap"
   ]
  },
  {
   "cell_type": "code",
   "execution_count": null,
   "id": "b398af6f-da49-42a6-a425-4ad07e98541a",
   "metadata": {},
   "outputs": [],
   "source": [
    "cmap2"
   ]
  },
  {
   "cell_type": "markdown",
   "id": "2ebee760-96da-45e1-aab1-28ef9f40a827",
   "metadata": {},
   "source": [
    "## Plot ash depth + arrival time for each scenario"
   ]
  },
  {
   "cell_type": "code",
   "execution_count": null,
   "id": "9b920013-2866-4fd3-bf31-dac28c53bf27",
   "metadata": {
    "tags": []
   },
   "outputs": [],
   "source": [
    "for idx in range(nidx):\n",
    "    scenario = scenarios.iloc[idx]\n",
    "    da = ds['total_deposition'].isel(idx=idx, time=it)\n",
    "    da_arrival = ds['arrival_time'].isel(idx=idx, time=it)\n",
    "    levels_arrival = np.arange(24)\n",
    "    \n",
    "    fig, ax = plt.subplots(1,1, figsize=(8,6), subplot_kw={\"projection\": ccrs.PlateCarree(clon)})\n",
    "    p1 = da.plot.contourf(ax=ax, levels=levs, cmap=cmap2, norm=LogNorm(vmin=levs[0], vmax=levs[-1]),\n",
    "        extend='min',\n",
    "        transform=ccrs.PlateCarree(),\n",
    "        cbar_kwargs={'label': 'Accumulated ashfall thickness [mm]'},\n",
    "    )\n",
    "\n",
    "    # contours after zooming..\n",
    "    try:\n",
    "        cs = da_arrival.plot.contour(ax=ax, levels=levels_arrival, colors='white',\n",
    "            transform=ccrs.PlateCarree(),\n",
    "        )\n",
    "        plt.clabel(cs, levels=levels_arrival, fmt='%0d h') \n",
    "    except ValueError as exc:\n",
    "        print(exc)\n",
    "        print('Skipping...')\n",
    "        \n",
    "    ax.plot(vlon,vlat, transform=ccrs.PlateCarree(), marker='*', ms=8, color='k')\n",
    "    plot_decor(ax)\n",
    "    txtstr = 'Scenario {}: MER={MER:.2f} MT/h; H={H:.2f} km; D={D:.2f} h'.format(idx, **scenario)\n",
    "    ax.set_title(txtstr)\n",
    "    \n",
    "    fileplot = fileplot_prefix + '_ashfall_arrival_idx{:03d}.png'.format(idx)\n",
    "    print(fileplot)\n",
    "    fig.savefig(fileplot, **fig_args)\n",
    "    #plt.close()\n",
    "    "
   ]
  },
  {
   "cell_type": "markdown",
   "id": "2b770597-8c9f-4d62-8ac5-f073b89cf110",
   "metadata": {},
   "source": [
    "## Plot ash depth for each scenario (for paper)"
   ]
  },
  {
   "cell_type": "code",
   "execution_count": null,
   "id": "1c39c450-804b-430d-89fa-a2ee645cd444",
   "metadata": {
    "tags": []
   },
   "outputs": [],
   "source": [
    "for idx in range(nidx):\n",
    "    scenario = scenarios.iloc[idx]\n",
    "    da = ds['total_deposition'].isel(idx=idx, time=it)\n",
    "    \n",
    "    fig, ax = plt.subplots(1,1, figsize=(12,10), subplot_kw={\"projection\": ccrs.PlateCarree(clon)})\n",
    "    p1 = da.plot.contourf(ax=ax, levels=levs, cmap=cmap2, norm=LogNorm(vmin=levs[0], vmax=levs[-1]), \n",
    "        extend='min',\n",
    "        transform=ccrs.PlateCarree(),\n",
    "        cbar_kwargs={'label': 'Accumulated ashfall thickness [mm]'},\n",
    "    )\n",
    "\n",
    "    ax.plot(vlon,vlat, transform=ccrs.PlateCarree(), marker='*', ms=8, color='k')\n",
    "    plot_decor(ax)\n",
    "    txtstr = 'Scenario {}: MER={MER:.2f} MT/h; H={H:.2f} km; D={D:.2f} h'.format(idx, **scenario)\n",
    "    ax.set_title(txtstr)\n",
    "    \n",
    "    fileplot = fileplot_prefix + '_ashfall_idx{:03d}.png'.format(idx)\n",
    "    print(fileplot)\n",
    "    fig.savefig(fileplot, **fig_args)\n",
    "    #plt.close()\n",
    "    "
   ]
  },
  {
   "cell_type": "code",
   "execution_count": null,
   "id": "654377aa-2d15-4315-a2f0-0d97e5ff8756",
   "metadata": {},
   "outputs": [],
   "source": [
    "rcParams['figure.subplot.hspace'] = 0.01\n",
    "fontsize = 17\n",
    "fig, axs = plt.subplot_mosaic([['a) ', 'b) '], ['c) ', 'd) ']], figsize=(21,21), subplot_kw={\"projection\": ccrs.PlateCarree(clon)})\n",
    "idx2ax = {0: 'a) ', 4: 'b) ', 6: 'c) ', 15: 'd) '}\n",
    "images = []\n",
    "\n",
    "for idx in [0, 4, 6, 15]:\n",
    "    scenario = scenarios.iloc[idx]\n",
    "    da = ds['total_deposition'].isel(idx=idx, time=it)\n",
    "    axl = idx2ax[idx]\n",
    "    p1 = da.plot.contourf(ax=axs[axl], levels=levs, cmap=cmap2, norm=LogNorm(vmin=levs[0], vmax=levs[-1]), \n",
    "        extend='min',\n",
    "        transform=ccrs.PlateCarree(),\n",
    "        add_colorbar=False\n",
    "    )\n",
    "    images.append(p1)\n",
    "    axs[axl].plot(vlon,vlat, transform=ccrs.PlateCarree(), marker='*', ms=8, color='k')\n",
    "    plot_decor(axs[axl])\n",
    "    txtstr = '  Scenario {}: MER={MER:.1f} MT/h; H={H:.1f} km; D={D:.1f} h'.format(idx, **scenario)\n",
    "    axs[axl].set_title(txtstr, fontsize=fontsize)\n",
    "    axs[axl].set_title(axl, fontfamily='serif', loc='left', fontsize=fontsize)\n",
    "    \n",
    "vmin = min(image.get_array().min() for image in images)\n",
    "vmax = max(image.get_array().max() for image in images)\n",
    "norm = LogNorm(vmin=vmin, vmax=vmax)\n",
    "for im in images:\n",
    "    im.set_norm(norm)\n",
    "    \n",
    "cax = fig.colorbar(images[0], ax=fig.axes, format=\"%g\", orientation='vertical', fraction=.05, shrink=0.6)\n",
    "cax.ax.tick_params(axis='both', labelsize=fontsize)\n",
    "cax.set_label(label='Accumulated ashfall thickness [mm]', fontsize=fontsize)\n",
    "\n",
    "fileplot = 'Figure07.png'\n",
    "fig.savefig(fileplot, **fig_args)\n"
   ]
  },
  {
   "cell_type": "code",
   "execution_count": null,
   "id": "547088b9-d34b-4405-a388-c734c519a5a0",
   "metadata": {},
   "outputs": [],
   "source": []
  }
 ],
 "metadata": {
  "kernelspec": {
   "display_name": "lhs",
   "language": "python",
   "name": "lhs"
  },
  "language_info": {
   "codemirror_mode": {
    "name": "ipython",
    "version": 3
   },
   "file_extension": ".py",
   "mimetype": "text/x-python",
   "name": "python",
   "nbconvert_exporter": "python",
   "pygments_lexer": "ipython3",
   "version": "3.7.13"
  }
 },
 "nbformat": 4,
 "nbformat_minor": 5
}
