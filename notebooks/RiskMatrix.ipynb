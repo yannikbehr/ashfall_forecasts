{
 "cells": [
  {
   "cell_type": "code",
   "execution_count": null,
   "metadata": {},
   "outputs": [],
   "source": [
    "import xarray as xr\n",
    "import numpy as np\n",
    "import matplotlib.pyplot as plt"
   ]
  },
  {
   "cell_type": "code",
   "execution_count": null,
   "metadata": {},
   "outputs": [],
   "source": [
    "def ensemble2riskmatrix(ensemble, ashbins, probbins):\n",
    "    # Bin ash deposition values\n",
    "    depo_bin = np.digitize(ensemble.values, ashbins)\n",
    "    \n",
    "    # Compute probability of each bin\n",
    "    # NaNs are mapped to len(ashbins) so to capture these\n",
    "    # we have to iterate over len(ashbins)+1\n",
    "    # e.g. np.digitize(np.array([1., np.nan, 2., 7., 9., np.nan]), [0, 4., 10.])\n",
    "    prob = np.zeros((len(ashbins), depo_bin.shape[1], depo_bin.shape[2]))\n",
    "    for i in range(1,len(ashbins)+1):\n",
    "        prob[i-1, :, :] = np.count_nonzero(depo_bin==i, axis=0)/depo_bin.shape[0]\n",
    "    \n",
    "    # Determine the ash deposition bin that corresponds to the\n",
    "    # highest probability\n",
    "    max_prob_idx = np.argmax(prob, axis=0)\n",
    "    \n",
    "    # Bin the probabilities\n",
    "    prob_bin = np.digitize(prob.max(axis=0), probbins) - 1\n",
    "    \n",
    "    # Map the probability and ashfall bin to a\n",
    "    # risk matrix\n",
    "    q = np.zeros((2, depo_bin.shape[1] * depo_bin.shape[2]))\n",
    "    q[0, :] = prob_bin.ravel()\n",
    "    q[1, :] = max_prob_idx.ravel()\n",
    "    \n",
    "    def map_risk(a):\n",
    "        # yellow = 1; amber=2; red=3\n",
    "        rmatrix = np.array([[1, 1, 2],\n",
    "                            [1, 2, 3],\n",
    "                            [1, 3, 3]])\n",
    "        idx0, idx1 = a.astype(int)[:]\n",
    "        if idx0 >= rmatrix.shape[0] or idx1 >= rmatrix.shape[1]:\n",
    "            return 0\n",
    "        return rmatrix[idx0, idx1]\n",
    "\n",
    "    rm = np.apply_along_axis(map_risk, 0, q).reshape(depo_bin.shape[1], depo_bin.shape[2])\n",
    "    return rm"
   ]
  },
  {
   "cell_type": "code",
   "execution_count": null,
   "metadata": {},
   "outputs": [],
   "source": [
    "data = np.arange(60.).reshape((5, 4, 3))\n",
    "data[0,0] = np.nan\n",
    "ds = xr.DataArray(data=data, dims=['n', 'x', 'y'], coords={\"x\": [10, 20, 30, 40], \"y\": [80, 90, 100], \"n\": np.arange(5)})"
   ]
  },
  {
   "cell_type": "code",
   "execution_count": null,
   "metadata": {},
   "outputs": [],
   "source": [
    "ashbins = [0, 6, 30, 1e6]\n",
    "probbins = [0., 0.1, 0.9, 1.]"
   ]
  },
  {
   "cell_type": "code",
   "execution_count": null,
   "metadata": {},
   "outputs": [],
   "source": [
    "from matplotlib.colors import ListedColormap\n",
    "cmap = ListedColormap([\"yellow\", \"orange\", \"red\"])\n",
    "rm = ensemble2riskmatrix(ds, ashbins, probbins)"
   ]
  },
  {
   "cell_type": "code",
   "execution_count": null,
   "metadata": {},
   "outputs": [],
   "source": [
    "plt.pcolormesh(rm, cmap=cmap)\n",
    "plt.colorbar()"
   ]
  },
  {
   "cell_type": "code",
   "execution_count": null,
   "metadata": {},
   "outputs": [],
   "source": [
    "import glob\n",
    "data_dir = 'data/202107070000_Taranaki_high'\n",
    "fname = '21070700_Taranaki_12.0_0.01.nc'\n",
    "files = glob.glob('{}/**/{}'.format(data_dir,fname), recursive=True)\n",
    "files.sort()\n",
    "ds = xr.open_mfdataset(files, combine='nested', concat_dim=['nwp'])"
   ]
  },
  {
   "cell_type": "code",
   "execution_count": null,
   "metadata": {},
   "outputs": [],
   "source": [
    "ds_slice = ds['total_deposition'].isel(time=23)"
   ]
  },
  {
   "cell_type": "code",
   "execution_count": null,
   "metadata": {},
   "outputs": [],
   "source": [
    "ashbins = [0.01, .1, 1, 10]\n",
    "probbins = [0., 0.5, 0.9, 1.]\n",
    "rm2 = ensemble2riskmatrix(ds_slice, ashbins, probbins)\n",
    "rm2_nan = np.ma.masked_array(rm2.astype(float), mask=rm2==0, fill_value=np.nan).filled()"
   ]
  },
  {
   "cell_type": "code",
   "execution_count": null,
   "metadata": {},
   "outputs": [],
   "source": [
    "ds_final = xr.Dataset({'risk': (['lat', 'lon'], rm2_nan)}, coords={'lon': ds.lon, 'lat': ds.lat})"
   ]
  },
  {
   "cell_type": "code",
   "execution_count": null,
   "metadata": {},
   "outputs": [],
   "source": [
    "import cartopy.crs as ccrs\n",
    "import cartopy.feature as cfeature\n",
    "clon=180\n",
    "\n",
    "# problem - plots land everywhere..\n",
    "land_10m = cfeature.NaturalEarthFeature(\n",
    "    \"physical\", \"land\", \"10m\", facecolor=cfeature.COLORS[\"land\"]\n",
    ")\n",
    "\n",
    "def plot_decor(ax):\n",
    "    ax.coastlines(\"10m\")\n",
    "    # ax.add_feature(ocean_10m, zorder=0)\n",
    "    ax.add_feature(land_10m, zorder=-1)\n",
    "    gl = ax.gridlines(xlocs=np.arange(168, 182, 2), draw_labels=True)\n",
    "    gl.top_labels = False\n",
    "    gl.right_labels = False\n",
    "\n",
    "def plot_risk_matrix(iax, ashbins, probbins):\n",
    "    Z = np.array([[1, 1, 2],\n",
    "                  [1, 2, 3],\n",
    "                  [1, 3, 3]])\n",
    "    x = np.arange(Z.shape[1] + 1)\n",
    "    y = np.arange(Z.shape[0] + 1)\n",
    "    iax.pcolormesh(x, y, Z, shading='flat', vmin=Z.min(), vmax=Z.max(), cmap=cmap,\n",
    "                  edgecolor='k')\n",
    "    iax.set_xticks([0, 1., 2., 3.])\n",
    "    iax.set_xticklabels(ashbins)\n",
    "    iax.set_xlabel('Ash deposition [mm]')\n",
    "    iax.set_yticks([0, 1., 2., 3.])\n",
    "    iax.set_yticklabels(np.array(probbins)*100.)\n",
    "    iax.set_ylabel('Likelihood [\\%]')\n",
    "    iax.set(title='Risk matrix')\n",
    "    \n",
    "fig, ax = plt.subplots(1,1, figsize=(12,8), subplot_kw={\"projection\": ccrs.PlateCarree(clon)})\n",
    "plot_decor(ax=ax)\n",
    "ds_final['risk'].plot(ax=ax, transform=ccrs.PlateCarree(), cmap=cmap, add_colorbar=False)\n",
    "# this is an inset axes over the main axes\n",
    "ins_ax = fig.add_axes([.33, .68, .12, .15])\n",
    "plot_risk_matrix(ins_ax, ashbins, probbins)"
   ]
  },
  {
   "cell_type": "code",
   "execution_count": null,
   "metadata": {},
   "outputs": [],
   "source": [
    "fig.savefig('plots/risk_matrix.png', bbox_inches='tight', dpi=200)"
   ]
  },
  {
   "cell_type": "code",
   "execution_count": null,
   "metadata": {},
   "outputs": [],
   "source": []
  }
 ],
 "metadata": {
  "kernelspec": {
   "display_name": "lhs",
   "language": "python",
   "name": "lhs"
  },
  "language_info": {
   "codemirror_mode": {
    "name": "ipython",
    "version": 3
   },
   "file_extension": ".py",
   "mimetype": "text/x-python",
   "name": "python",
   "nbconvert_exporter": "python",
   "pygments_lexer": "ipython3",
   "version": "3.7.10"
  }
 },
 "nbformat": 4,
 "nbformat_minor": 4
}
