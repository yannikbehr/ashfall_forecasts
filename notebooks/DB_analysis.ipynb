{
 "cells": [
  {
   "cell_type": "code",
   "execution_count": null,
   "metadata": {},
   "outputs": [],
   "source": [
    "import pandas as pd\n",
    "import plotly.express as px\n",
    "import numpy as np\n",
    "import seaborn as sns\n",
    "import matplotlib.pyplot as plt\n",
    "from lh_sampling.sampler import lhs\n",
    "from lh_sampling.util import inv_cdf, ecdf\n",
    "from scipy.stats import norm, multivariate_normal\n",
    "from lh_sampling import get_data"
   ]
  },
  {
   "cell_type": "code",
   "execution_count": null,
   "metadata": {},
   "outputs": [],
   "source": [
    "def str2float(val):\n",
    "    if val == '':\n",
    "        return np.nan\n",
    "    else:\n",
    "        return float(val)\n",
    "\n",
    "def str2cat(val):\n",
    "    if val.find('CAL') != -1:\n",
    "        return 1\n",
    "    return 0\n",
    "        \n",
    "df = pd.read_csv(get_data('/data/SR2021-12 Spreadsheet_IVESPA.csv'), usecols=[1,4,5,6,7,8,9,11,12,13],\n",
    "                 converters={6:str2float, 7:str2cat, 8:str2float,\n",
    "                             9:str2float, 11:str2cat, 12:str2float,\n",
    "                             13:str2cat})"
   ]
  },
  {
   "cell_type": "code",
   "execution_count": null,
   "metadata": {},
   "outputs": [],
   "source": [
    "df.rename(columns={'MER_kg/s':'MER', 'Vent_elevation_km':'Vent_elevation',\n",
    "                   'Column_height_km':'Column_height', 'Duration_hr':'Duration',\n",
    "                   'Magma_type':'Magma type'},\n",
    "          inplace=True)\n",
    "\n",
    "# remove calculated values\n",
    "df['Column_height'] = np.where(df.Column_height_note==1, np.nan, df['Column_height'])\n",
    "df['MER'] = np.where(df.MER_note==1, np.nan, df['MER'])\n",
    "df['Duration'] = np.where(df.Duration_note==1, np.nan, df['Duration'])\n",
    "\n",
    "# Add log columns\n",
    "df['Volume'] = df['MER'] * df['Duration']\n",
    "df['log Volume'] = np.log(df['Volume'])\n",
    "df['log MER'] = np.log(df['MER'])\n",
    "df['log Column height'] = np.log(df['Column_height'])\n",
    "df['log Duration'] = np.log(df['Duration'])"
   ]
  },
  {
   "cell_type": "code",
   "execution_count": null,
   "metadata": {},
   "outputs": [],
   "source": [
    "np.isnan(df['log Column height'].values).sum()"
   ]
  },
  {
   "cell_type": "code",
   "execution_count": null,
   "metadata": {},
   "outputs": [],
   "source": [
    "df"
   ]
  },
  {
   "cell_type": "code",
   "execution_count": null,
   "metadata": {},
   "outputs": [],
   "source": [
    "print(\"mafic, steam-driven: \", len(df[(df['Magma type']== 'Mafic')&(df['Eruption_type']=='Steam-driven')]))\n",
    "print(\"mafic, small-to-moderate: \", len(df[(df['Magma type']== 'Mafic')&(df['Eruption_type']=='Magmatic small to moderate')]))\n",
    "print(\"mafic, large: \", len(df[(df['Magma type']== 'Mafic')&(df['Eruption_type']=='Magmatic large')]))\n",
    "print(\"intermediate, steam-driven: \", len(df[(df['Magma type']== 'Intermediate')&(df['Eruption_type']=='Steam-driven')]))\n",
    "len1 = len(df[(df['Magma type']== 'Intermediate')&(df['Eruption_type']=='Magmatic small to moderate')])\n",
    "len2 = len(df[(df['Magma type']== 'Intermediate')&(df['Eruption_type']=='Magmatic small to moderate*')])\n",
    "print(\"intermediate, small-to-moderate: \", len1 + len2)\n",
    "print(\"intermediate, large: \", len(df[(df['Magma type']== 'Intermediate')&(df['Eruption_type']=='Magmatic large')]))\n",
    "print(\"silicic, steam-driven: \", len(df[(df['Magma type']== 'Silicic')&(df['Eruption_type']=='Steam-driven')]))\n",
    "print(\"silicic, small-to-moderate: \", len(df[(df['Magma type']== 'Silicic')&(df['Eruption_type']=='Magmatic small to moderate')]))\n",
    "print(\"silicic, large: \", len(df[(df['Magma type']== 'Silicic')&(df['Eruption_type']=='Magmatic large')]))"
   ]
  },
  {
   "cell_type": "code",
   "execution_count": null,
   "metadata": {},
   "outputs": [],
   "source": [
    "len(df)"
   ]
  },
  {
   "cell_type": "code",
   "execution_count": null,
   "metadata": {},
   "outputs": [],
   "source": [
    "# Interactive scatter matrix plot\n",
    "fig = px.scatter_matrix(df, dimensions=['Column_height', 'MER', 'Duration', 'Volume'], color=\"Magma type\")\n",
    "fig.update_layout(width=1000, height=1000)"
   ]
  },
  {
   "cell_type": "code",
   "execution_count": null,
   "metadata": {},
   "outputs": [],
   "source": [
    "import matplotlib as mpl\n",
    "def my_pair_grid_plot(data, hue):\n",
    "    g = sns.PairGrid(data, vars=['log Duration [h]', 'log MER [kg/s]', 'log Column height [km]'], hue=hue,\n",
    "                     diag_sharey=False, height=0.1, layout_pad=5, despine=True, corner=False)\n",
    "    # Monkey patch the figure instance. Ugly but I couldn't find any other way\n",
    "    height=3\n",
    "    aspect=1\n",
    "    figsize = 3 * height * aspect, 3 * height\n",
    "    with mpl.rc_context({\"figure.autolayout\": False}):\n",
    "        fig = plt.figure(figsize=figsize)\n",
    "    axes = fig.subplots(3, 3, sharex=\"col\", sharey=False, squeeze=False)\n",
    "    fig.tight_layout(pad=2)\n",
    "    g.axes = axes\n",
    "    g._figure = fig\n",
    "    g.map_upper(sns.scatterplot, s=15)\n",
    "    g.map_lower(sns.kdeplot)\n",
    "    g.map_diag(sns.ecdfplot, lw=2)\n",
    "\n",
    "    g.axes[0,0].set_ylabel('Cumulative Duration')\n",
    "    g.axes[1,1].set_ylabel('Cumulative MER')\n",
    "    g.axes[2,2].set_ylabel('Cumulative Column height')\n",
    "    g.axes[1, 2].set_yticks(g.axes[1,0].get_yticks())\n",
    "    g.axes[1, 2].set_ylim(g.axes[1,0].get_ylim())\n",
    "    g.axes[0, 2].set_yticks(g.axes[0,1].get_yticks())\n",
    "    g.axes[0, 2].set_ylim(g.axes[0,1].get_ylim())\n",
    "    g.axes[2, 1].set_yticks(g.axes[2,0].get_yticks())\n",
    "    g.axes[2, 1].set_ylim(g.axes[2,0].get_ylim())\n",
    "    g.add_legend()\n",
    "    return fig\n",
    "\n",
    "fig = my_pair_grid_plot(df, 'Magma type')\n",
    "fig.savefig('plots/scatter_matrix.png', bbox_inches='tight', dpi=300)"
   ]
  },
  {
   "cell_type": "code",
   "execution_count": null,
   "metadata": {},
   "outputs": [],
   "source": [
    "df_m = df[['log Column height', 'log MER', 'log Duration']].where(df['Magma type'] == 'Mafic')\n",
    "df_i = df[['log Column height', 'log MER', 'log Duration']].where(df['Magma type'] == 'Intermediate')\n",
    "df_tmp = df_i\n",
    "lsmp = lhs(3, 20, centered=True)\n",
    "U = np.linalg.cholesky(df_tmp.cov().values)\n",
    "mean = df_tmp.mean()\n",
    "\n",
    "if False:\n",
    "    def resample(df, key, samples):\n",
    "        x = df[key].dropna().values\n",
    "        x_sorted, cdf = ecdf(x)\n",
    "        x_new = inv_cdf(x, samples)\n",
    "        return x_new\n",
    "\n",
    "    lh_samples_ch = resample(df_tmp, 'log Column height', lsmp[:,0])\n",
    "    lh_samples_mer = resample(df_tmp, 'log MER', lsmp[:,1])\n",
    "    lh_samples_d = resample(df_tmp, 'log Duration', lsmp[:,2])\n",
    "    lh_samples = np.vstack((lh_samples_ch, lh_samples_mer, lh_samples_d))\n",
    "\n",
    "if True:\n",
    "    lh_samples_x = norm.ppf(lsmp[:, 0], loc=0, scale=1)\n",
    "    lh_samples_y = norm.ppf(lsmp[:, 1], loc=0, scale=1)\n",
    "    lh_samples_z = norm.ppf(lsmp[:, 2], loc=0, scale=1)\n",
    "    lh_samples = np.vstack((lh_samples_x, lh_samples_y, lh_samples_z))\n",
    "    lh_samples = np.dot(U, lh_samples)\n",
    "    lh_samples = lh_samples+mean.values[:, np.newaxis]\n",
    "    \n",
    "dfr = pd.DataFrame(lh_samples.T, columns=df_tmp.columns)\n",
    "dfr['Category'] = ['resampled']*dfr.shape[0]\n",
    "df_tmp['Category'] = ['original']*df_tmp.shape[0]\n",
    "dfr = pd.concat((df_tmp, dfr)).reset_index()"
   ]
  },
  {
   "cell_type": "code",
   "execution_count": null,
   "metadata": {},
   "outputs": [],
   "source": [
    "print(\"{:g} {:g}\".format(np.exp(df_tmp['log MER'].min()), np.exp(df_tmp['log MER'].max())))"
   ]
  },
  {
   "cell_type": "code",
   "execution_count": null,
   "metadata": {},
   "outputs": [],
   "source": [
    "fig = my_pair_grid_plot(dfr, 'Category')\n",
    "fig.savefig('plots/scatter_matrix_resample.png', bbox_inches='tight', dpi=300)"
   ]
  },
  {
   "cell_type": "code",
   "execution_count": null,
   "metadata": {},
   "outputs": [],
   "source": [
    "dfr[dfr.Category == 'original'].cov()"
   ]
  },
  {
   "cell_type": "code",
   "execution_count": null,
   "metadata": {},
   "outputs": [],
   "source": [
    "dfr[dfr.Category == 'resampled'].cov()"
   ]
  },
  {
   "cell_type": "markdown",
   "metadata": {},
   "source": [
    "## Etna analysis"
   ]
  },
  {
   "cell_type": "code",
   "execution_count": null,
   "metadata": {},
   "outputs": [],
   "source": [
    "df_etna = df[df['Volcano']=='Etna']\n",
    "df_etna = df_etna.sort_values(axis=0, by='MER')"
   ]
  },
  {
   "cell_type": "code",
   "execution_count": null,
   "metadata": {},
   "outputs": [],
   "source": [
    "s = sns.pairplot(df_etna, vars=['Duration', 'MER', 'Column_height'], hue='Magma type')\n",
    "for i in range(3):\n",
    "    for j in range(3):\n",
    "        s.axes[i,j].set(xscale=\"log\", yscale=\"log\")"
   ]
  },
  {
   "cell_type": "code",
   "execution_count": null,
   "metadata": {},
   "outputs": [],
   "source": [
    "s = sns.displot(df_etna, x=\"MER\", kind=\"kde\")\n",
    "s.set(xscale=\"log\", yscale=\"log\")"
   ]
  }
 ],
 "metadata": {
  "kernelspec": {
   "display_name": "lhs",
   "language": "python",
   "name": "lhs"
  },
  "language_info": {
   "codemirror_mode": {
    "name": "ipython",
    "version": 3
   },
   "file_extension": ".py",
   "mimetype": "text/x-python",
   "name": "python",
   "nbconvert_exporter": "python",
   "pygments_lexer": "ipython3",
   "version": "3.7.10"
  }
 },
 "nbformat": 4,
 "nbformat_minor": 4
}
