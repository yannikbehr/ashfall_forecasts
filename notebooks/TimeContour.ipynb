{
 "cells": [
  {
   "cell_type": "code",
   "execution_count": null,
   "id": "a65e6e00-7e15-4aef-a47a-bc25a2a9a467",
   "metadata": {},
   "outputs": [],
   "source": [
    "import os\n",
    "import glob\n",
    "import numpy as np\n",
    "import pandas as pd \n",
    "import xarray as xr\n",
    "import matplotlib.pyplot as plt\n",
    "import matplotlib as mpl\n",
    "import matplotlib.colors\n",
    "import matplotlib.cm\n",
    "import cartopy.crs as ccrs\n",
    "import cartopy.feature as cfeature\n",
    "\n",
    "clon=180\n",
    "\n",
    "# problem - plots land everywhere..\n",
    "land_10m = cfeature.NaturalEarthFeature(\n",
    "    \"physical\", \"land\", \"10m\", facecolor=cfeature.COLORS[\"land\"]\n",
    ")\n",
    "\n",
    "def plot_decor(ax):\n",
    "    ax.coastlines(\"10m\")\n",
    "    # ax.add_feature(ocean_10m, zorder=0)\n",
    "    ax.add_feature(land_10m, zorder=-1)\n",
    "    gl = ax.gridlines(draw_labels=True)\n",
    "    gl.top_labels = False\n",
    "    gl.right_labels = False"
   ]
  },
  {
   "cell_type": "code",
   "execution_count": null,
   "id": "1e38b94b-3e94-41e2-95a1-45b3d2eb3dc9",
   "metadata": {},
   "outputs": [],
   "source": [
    "data_dir = 'data/202107070000_Taranaki_high'\n",
    "fname = '21070700_Taranaki_12.0_0.01.nc'\n",
    "files = glob.glob('{}/**/{}'.format(data_dir,fname), recursive=True)\n",
    "files.sort()"
   ]
  },
  {
   "cell_type": "code",
   "execution_count": null,
   "id": "d851bd2a-1789-41c1-a1e2-dcc5275b801f",
   "metadata": {},
   "outputs": [],
   "source": [
    "almost_zero=1.0e-6\n",
    "threshold = 0.01\n",
    "vname = 'prob_above_{}'.format(threshold)\n",
    "\n",
    "ds = xr.open_mfdataset(files, combine='nested', concat_dim=['nwp'])\n",
    "nmod, nt, ny, nx = ds['total_deposition'].shape\n",
    "\n",
    "da_sum = np.zeros((nt, nx, ny))\n",
    "for it in range(nt):\n",
    "    for n in range(nmod):\n",
    "        da1 = ds['total_deposition'].isel(time=it, nwp=n)\n",
    "        da1m = np.zeros((nx,ny))\n",
    "        da1m[da1>threshold] = 1\n",
    "        da_sum[it] += da1m\n",
    "\n",
    "    da_sum[it] = da_sum[it]/nmod\n",
    "    da_sum[it] = np.where(da_sum[it]<=almost_zero, np.nan, da_sum[it])\n",
    "\n",
    "ds_final = xr.Dataset({vname: (['time', 'lat', 'lon'], da_sum)}, coords={'lon': ds.lon, 'lat': ds.lat, 'time': ds.time})\n",
    "ds_final"
   ]
  },
  {
   "cell_type": "code",
   "execution_count": null,
   "id": "69da4b4a-9cb5-484d-813f-12abe9b2ddd8",
   "metadata": {},
   "outputs": [],
   "source": [
    "from matplotlib.colorbar import ColorbarBase\n",
    "\n",
    "max_hour = 10\n",
    "cmap = mpl.cm.viridis\n",
    "its = np.arange(0, max_hour)\n",
    "norm = matplotlib.colors.Normalize(vmin=0, vmax=len(its))\n",
    "\n",
    "fig, ax = plt.subplots(1,1, figsize=(12,8), subplot_kw={\"projection\": ccrs.PlateCarree(clon)})\n",
    "plot_decor(ax=ax)\n",
    "\n",
    "cs_list = []\n",
    "for i,it in enumerate(its):\n",
    "    da1 = ds_final[vname].isel(time=it)     \n",
    "    ts = pd.to_datetime(str(da1['time'].data))     \n",
    "    cs = da1.plot.contour(ax=ax, levels=[0.5], colors=[cmap(norm(i))], ls='--', transform=ccrs.PlateCarree())    \n",
    "    cs_list += cs.collections\n",
    "    \n",
    "bounds = np.arange(max_hour + 1) - 0.5\n",
    "norm = mpl.colors.BoundaryNorm(bounds, cmap.N)\n",
    "fig.colorbar(mpl.cm.ScalarMappable(norm=norm, cmap=cmap),\n",
    "             orientation='vertical',\n",
    "             label='Time since eruption [h]',\n",
    "             ticks=its)\n",
    "_ = ax.set_title(None)"
   ]
  },
  {
   "cell_type": "code",
   "execution_count": null,
   "id": "5e9b9d1a-8b6c-4a9b-b4f6-731ca16f20cb",
   "metadata": {},
   "outputs": [],
   "source": [
    "fig.savefig('plots/time_contours.png', bbox_inches='tight', dpi=200)"
   ]
  },
  {
   "cell_type": "code",
   "execution_count": null,
   "id": "a8cd0176-4a75-4c63-8142-b45b79b5b415",
   "metadata": {},
   "outputs": [],
   "source": []
  }
 ],
 "metadata": {
  "kernelspec": {
   "display_name": "lhs",
   "language": "python",
   "name": "lhs"
  },
  "language_info": {
   "codemirror_mode": {
    "name": "ipython",
    "version": 3
   },
   "file_extension": ".py",
   "mimetype": "text/x-python",
   "name": "python",
   "nbconvert_exporter": "python",
   "pygments_lexer": "ipython3",
   "version": "3.7.10"
  }
 },
 "nbformat": 4,
 "nbformat_minor": 5
}
